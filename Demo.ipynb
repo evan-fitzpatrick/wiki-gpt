{
 "cells": [
  {
   "cell_type": "markdown",
   "id": "1cef3724-64ae-40c4-9d79-12cc5b54edb6",
   "metadata": {},
   "source": [
    "## Imports and Model setup"
   ]
  },
  {
   "cell_type": "code",
   "execution_count": 1,
   "id": "1b25612e-cd7d-4f44-9dd0-e860f14fa780",
   "metadata": {},
   "outputs": [
    {
     "name": "stdout",
     "output_type": "stream",
     "text": [
      "Using TensorFlow backend\n",
      "Completed setup in 5.07s\n"
     ]
    }
   ],
   "source": [
    "import keras_nlp\n",
    "import keras\n",
    "import numpy as np\n",
    "\n",
    "import tensorflow.data as tf_data\n",
    "import tensorflow.strings as tf_strings\n",
    "import tensorflow.keras.optimizers.schedules as schedules\n",
    "from keras.layers import LeakyReLU\n",
    "\n",
    "import pickle\n",
    "import time\n",
    "\n",
    "#==== Constants used to define model parameters ===#\n",
    "\n",
    "SEQ_LEN = 512\n",
    "EMBED_DIM = 1024\n",
    "FEED_FORWARD_DIM = 1024\n",
    "NUM_HEADS = 16\n",
    "NUM_LAYERS = 20\n",
    "VOCAB_SIZE = 50000\n",
    "start_time = time.time()\n",
    "\n",
    "#============ Code to build the model ============#\n",
    "\n",
    "# Load custom tokenizer\n",
    "with open('./models/wikitext103_tokenizer50k.pkl', 'rb') as saved_tokenizer:\n",
    "    tokenizer = pickle.load(saved_tokenizer)\n",
    "    \n",
    "# Start packer adds a token to signify the beginning of a string\n",
    "start_packer = keras_nlp.layers.StartEndPacker(sequence_length=SEQ_LEN,start_value=tokenizer.token_to_id(\"[BOS]\"),)\n",
    "\n",
    "# Input layer\n",
    "inputs = keras.layers.Input(shape=(None,), dtype=\"int32\")\n",
    "\n",
    "# Embedding Layer: 50000 vocab -> 1024 dim embedding\n",
    "embedding_layer = keras_nlp.layers.TokenAndPositionEmbedding(vocabulary_size=VOCAB_SIZE,sequence_length=SEQ_LEN,embedding_dim=EMBED_DIM,mask_zero=True,)\n",
    "x = embedding_layer(inputs)\n",
    "\n",
    "# Add NUM_LAYERS (20) transformers in a row sequentially\n",
    "for _ in range(NUM_LAYERS):\n",
    "    decoder_layer = keras_nlp.layers.TransformerDecoder(num_heads=NUM_HEADS,intermediate_dim=FEED_FORWARD_DIM,activation=LeakyReLU(0.1),)\n",
    "    x = decoder_layer(x) \n",
    "\n",
    "# Output: 50,000 tokens\n",
    "outputs = keras.layers.Dense(VOCAB_SIZE)(x)\n",
    "\n",
    "# Construct Model\n",
    "model = keras.Model(inputs=inputs, outputs=outputs)\n",
    "loss_fn = keras.losses.SparseCategoricalCrossentropy(from_logits=True)\n",
    "opt = keras.optimizers.Adam(learning_rate=5e-5)\n",
    "perplexity = keras_nlp.metrics.Perplexity(from_logits=True, mask_token_id=0)\n",
    "\n",
    "# Model is complete\n",
    "model.compile(optimizer=opt, loss=loss_fn, metrics=[perplexity])\n",
    "\n",
    "\n",
    "#========== Code to run the model ============+\n",
    "\n",
    "# Function repeatedly called for each new token generation\n",
    "def next(prompt, cache, index):\n",
    "    logits = model(prompt)[:, index - 1, :]\n",
    "    hidden_states = None\n",
    "    return logits, hidden_states, cache\n",
    "\n",
    "### Helper function to generate a response to the prompt. Relies on global variable model\n",
    "# prompt is a python string\n",
    "# show_verbose displays the output even after the model has said it is complete with end of string token (unpredictable)\n",
    "# Temperature defines how 'creative' the model should be, sampling from the top probabilities\n",
    "def generate_response(prompt, show_verbose=False, temperature=0.5):\n",
    "    # convert prompt to tokens\n",
    "    prompt_tokens = start_packer(tokenizer([prompt]))\n",
    "    \n",
    "    # Check how many user-input tokens are present\n",
    "    prompt_length = np.sum(prompt_tokens.numpy() != 0)\n",
    "    \n",
    "    # Define sampler\n",
    "    sampler = keras_nlp.samplers.TopPSampler(p=temperature)\n",
    "    \n",
    "    # Run the model 512 times because I can't figure out how to get the end token to work properly\n",
    "    output_tokens = sampler(next=next,prompt=prompt_tokens,index=prompt_length,)\n",
    "    \n",
    "    # Convert token list back to string\n",
    "    txt = tokenizer.detokenize(output_tokens)\n",
    "    \n",
    "    # Show the full unshortened output\n",
    "    # Behavior after the first [PAD] token is undefined, as that signals a new wiki entry, and there is no way to predict the next wikipedia page in the dataset\n",
    "    if show_verbose:\n",
    "        print(f\"Raw text: \\n{txt}\\n\")\n",
    "        \n",
    "    # Shorten text to only show desired output and print\n",
    "    output_txt = str(txt.numpy()[0]).split(\"[BOS] \")[-1].split(' [PAD]')[0]\n",
    "    print(f\"Generated text: \\n{output_txt.replace('@ - @', '-').replace('@ , @', ',').replace('@ . @', '.')}\\n\")\n",
    "print(f'Completed setup in {round(time.time() - start_time, 2)}s')"
   ]
  },
  {
   "cell_type": "markdown",
   "id": "53a77249-1395-4006-af15-e79471bd0591",
   "metadata": {
    "tags": []
   },
   "source": [
    "## Loading Cell 1: Load QA Model"
   ]
  },
  {
   "cell_type": "code",
   "execution_count": 2,
   "id": "e1a14cab-bbb4-4683-92ec-65800991dee1",
   "metadata": {
    "scrolled": true,
    "tags": []
   },
   "outputs": [],
   "source": [
    "# Run this Cell to load Question-Answer model\n",
    "model.load_weights('./checkpoints/Model_240M_50kvocab_30ksSquadfinetune.krs');"
   ]
  },
  {
   "cell_type": "code",
   "execution_count": 3,
   "id": "7d792df1-7a7b-4a7f-98f4-c6c71c381889",
   "metadata": {},
   "outputs": [
    {
     "name": "stdout",
     "output_type": "stream",
     "text": [
      "Generated text: \n",
      "what genre of music do the beatles play ? rock\n",
      "\n",
      "Response took 108.1s to complete\n"
     ]
    }
   ],
   "source": [
    "# Safety tip: Code for generating responses is very slow. I have an RTX 3090, and generations still take over a minute. Beware if running on CPU.\n",
    "start_time = time.time()\n",
    "generate_response('what genre of music do the beatles play ?')\n",
    "print(f'Response took {round(time.time() - start_time, 1)}s to complete')"
   ]
  },
  {
   "cell_type": "code",
   "execution_count": 4,
   "id": "039b2f51-4acb-4a5a-aceb-1100fb109077",
   "metadata": {},
   "outputs": [
    {
     "name": "stdout",
     "output_type": "stream",
     "text": [
      "Generated text: \n",
      "what is a country that borders nigeria ? tanzanian republic\n",
      "\n"
     ]
    }
   ],
   "source": [
    "generate_response('What is a country that borders Nigeria?')"
   ]
  },
  {
   "cell_type": "code",
   "execution_count": 5,
   "id": "7d0d8157-700f-4cd1-abef-43977be60a71",
   "metadata": {},
   "outputs": [
    {
     "name": "stdout",
     "output_type": "stream",
     "text": [
      "Generated text: \n",
      "what are some species that live in the amazon rainforest ? european minke ( eucalyptus ) , italian sparrowhawk ( canisemus ) , and italian otter ( felis )\n",
      "\n"
     ]
    }
   ],
   "source": [
    "generate_response('What are some species that live in the Amazon Rainforest?')"
   ]
  },
  {
   "cell_type": "code",
   "execution_count": 6,
   "id": "3dde7aa1-cf25-47f6-8753-4a70890f7847",
   "metadata": {},
   "outputs": [
    {
     "name": "stdout",
     "output_type": "stream",
     "text": [
      "Generated text: \n",
      "when did world war ii begin ? 1939\n",
      "\n"
     ]
    }
   ],
   "source": [
    "generate_response('When did World War II begin?')"
   ]
  },
  {
   "cell_type": "code",
   "execution_count": 7,
   "id": "f4bf5457-586e-45e8-9f53-f27cf1d5ce96",
   "metadata": {},
   "outputs": [
    {
     "name": "stdout",
     "output_type": "stream",
     "text": [
      "Generated text: \n",
      "how tall is mount everest ? 10 , 000 feet\n",
      "\n"
     ]
    }
   ],
   "source": [
    "generate_response('How tall is Mount Everest?')"
   ]
  },
  {
   "cell_type": "markdown",
   "id": "502535f7-475f-45ef-b7ca-ac8d3503ac18",
   "metadata": {},
   "source": [
    "## Loading Cell 2: Load WikiText Model"
   ]
  },
  {
   "cell_type": "code",
   "execution_count": 14,
   "id": "08594b5e-c8b9-4bd9-84cc-8d35ad479b8d",
   "metadata": {},
   "outputs": [],
   "source": [
    "# Run this cell to run wikitext model\n",
    "# The longer responses are more prone to looping, so I like to use a higher temperature, although this leads to less factually accurate responses\n",
    "model.load_weights('./checkpoints/Model_240M_50kvocab_157kseconds.krs');"
   ]
  },
  {
   "cell_type": "code",
   "execution_count": 9,
   "id": "f077ff08-a428-49e1-9b64-1cc6033b4e7b",
   "metadata": {},
   "outputs": [
    {
     "name": "stdout",
     "output_type": "stream",
     "text": [
      "Generated text: \n",
      "the beatles are a band famous for making music in the genre of rock . they were created to promote their first album in the early 1960s and have played many of their albums since the 1960s . their live show is a satirical piece for people living in the beatles \\' 1967 show in west london . they are famous for their lack of musical influence in the beatles \\' songs , which were written to honor the composer \\' s fame and their heritage . their second album , there were no new musical style and no lyrics were in the mix .\n",
      "\n"
     ]
    }
   ],
   "source": [
    "generate_response('The Beatles are a band famous for making music in the genre of', temperature=0.7)"
   ]
  },
  {
   "cell_type": "code",
   "execution_count": 10,
   "id": "0c09cee7-244e-458e-850e-2267e2d4809e",
   "metadata": {},
   "outputs": [
    {
     "name": "stdout",
     "output_type": "stream",
     "text": [
      "Generated text: \n",
      "nigeria shares a land border with cameroon , southeast africa and the african republic of africa . the south african republic is a maritime land grant with a cargo to serve the canary islands . they have a maritime presence and their business is related to the african countries of the south african republic , and it is also home to a number of community groups that play a role in the congo ' s economy . these include those of the west indies , and those of the african union , including the m\\xc3\\xa9tis , < unk > and econ\\xc3\\xa1 .\n",
      "\n"
     ]
    }
   ],
   "source": [
    "generate_response('Nigeria shares a land border with', temperature=0.7)"
   ]
  },
  {
   "cell_type": "code",
   "execution_count": 11,
   "id": "090fe778-e321-446b-bda4-6c2206ba3856",
   "metadata": {},
   "outputs": [
    {
     "name": "stdout",
     "output_type": "stream",
     "text": [
      "Generated text: \n",
      "the most well known species in the amazon rainforest are the mountain sharks ( c . carpantea ) , the small isopod - billed < unk > ( eucalyptus rubidae ) , and the small and highly developed large tunatail shark ( c . argoleps ) . the sharks are capable of coastal life , with their low temperatures and heavy < unk > than the two species .\n",
      "\n"
     ]
    }
   ],
   "source": [
    "generate_response('The most well known species in the Amazon rainforest are', temperature=0.7)"
   ]
  },
  {
   "cell_type": "code",
   "execution_count": 12,
   "id": "b5398016-6354-4469-be91-f0d4cee0919d",
   "metadata": {},
   "outputs": [
    {
     "name": "stdout",
     "output_type": "stream",
     "text": [
      "Generated text: \n",
      "world war ii began on 4 september 1939 when the united states and united states , the war of the third coalition , and the axis powers became part of the manhattan project , a project that continued until 1942 . construction was completed in january 1943 . it was completed in november 1943 and finished on 8 december 1943 . the project was considered an improvement over the previous budget , and was postponed until the end of the war . it was one of the first actions of the us military to do so , and the first combat combat combat plan . the decision to deploy a combat unit was not implemented until 1944 .\n",
      "\n"
     ]
    }
   ],
   "source": [
    "generate_response('World War II began on', temperature=0.7)"
   ]
  },
  {
   "cell_type": "code",
   "execution_count": 18,
   "id": "fcd14af8-e8f2-4403-8dcb-80708634a294",
   "metadata": {},
   "outputs": [
    {
     "name": "stdout",
     "output_type": "stream",
     "text": [
      "Generated text: \n",
      "mount everest reaches a height of 30 metres ( 115 ft ) and features four lava flows , a long , thick dome , two fissures , and a completely flattened , often tephra lava . on average , the volume of ash is 0 . 1 g / cm3 , or 0 . 1 g / kg per cubic meter . the basin has only a high average of 1 . 2 g / kg ( 0 . 6 oz / kg / cu ft ) and an area of 0 . 4 g / kg ( 0 . 2 oz / cu ft ) .\n",
      "\n"
     ]
    }
   ],
   "source": [
    "generate_response('Mount Everest reaches a height of', temperature=0.7)"
   ]
  },
  {
   "cell_type": "code",
   "execution_count": null,
   "id": "c78ce5f1-51a7-4375-9679-9cfc2b2c3975",
   "metadata": {},
   "outputs": [],
   "source": []
  }
 ],
 "metadata": {
  "kernelspec": {
   "display_name": "Python 3 (ipykernel)",
   "language": "python",
   "name": "python3"
  },
  "language_info": {
   "codemirror_mode": {
    "name": "ipython",
    "version": 3
   },
   "file_extension": ".py",
   "mimetype": "text/x-python",
   "name": "python",
   "nbconvert_exporter": "python",
   "pygments_lexer": "ipython3",
   "version": "3.9.19"
  }
 },
 "nbformat": 4,
 "nbformat_minor": 5
}
