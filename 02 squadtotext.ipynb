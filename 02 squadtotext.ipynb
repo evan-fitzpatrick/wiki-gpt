{
 "cells": [
  {
   "cell_type": "code",
   "execution_count": 36,
   "id": "ef26de8f-0384-4431-a06d-d09b502d4ae2",
   "metadata": {},
   "outputs": [],
   "source": [
    "import json"
   ]
  },
  {
   "cell_type": "code",
   "execution_count": 37,
   "id": "e6893495-b635-4cec-a8c9-70693cb0b6cb",
   "metadata": {},
   "outputs": [],
   "source": [
    "with open('./dataset/hotpot_train_v1.1.json', 'rb') as f:\n",
    "    hotpotraw = json.loads(f.read())"
   ]
  },
  {
   "cell_type": "code",
   "execution_count": 42,
   "id": "a93e14f9-c3b4-4c6d-8d11-cb23cf6b0616",
   "metadata": {},
   "outputs": [
    {
     "data": {
      "text/plain": [
       "{'supporting_facts': [[\"Ann O'Leary\", 0],\n",
       "  [\"Ann O'Leary\", 1],\n",
       "  ['United States Senate career of Hillary Clinton', 0],\n",
       "  ['United States Senate career of Hillary Clinton', 2]],\n",
       " 'level': 'hard',\n",
       " 'question': \"What position did the former American first lady who employed Ann M. O'Leary during her husband's presidency hold in the Obama administration?\",\n",
       " 'context': [['Michelle Paige Paterson',\n",
       "   ['Michelle R. Paige Paterson (born April 1, 1961 in Fairfield, California) was the First Lady of New York state.',\n",
       "    ' The wife of New York Governor David Paterson, she became the First Lady on March 17, 2008, when her husband was sworn in as governor, following the resignation of Eliot Spitzer.',\n",
       "    \" Paige Paterson is the first African American First Lady in New York's history.\"]],\n",
       "  ['Catastrophe (book)',\n",
       "   ['Catastrophe: How Obama, Congress, and the Special Interests Are Transforming a Slump Into a Crash, Freedom Into Socialism, and a Disaster Into a Catastrophe . . . and How to Fight Back is a 2009 book co-written by American political commentator Dick Morris and his wife Eileen McGann, which spells out hypothetical catastrophic consequences of the Barack Obama administration policies and shows how the Obama administration could be stopped.']],\n",
       "  ['Thomas E. Donilon',\n",
       "   ['Thomas E. \"Tom\" Donilon (born May 14, 1955) is an American lawyer and former government official who served as National Security Advisor in the Obama administration.',\n",
       "    ' Previously, he served together with diplomat Wendy Sherman as Agency Review Team Lead for the State Department in the Obama transition, and as Deputy to National Security Advisor James Jones early in the Obama administration.',\n",
       "    ' Donilon replaced Jones as National Security Advisor on October 8, 2010.']],\n",
       "  ['Lawfare (blog)',\n",
       "   ['Lawfare is a blog dedicated to national security issues, published by the Lawfare Institute in cooperation with the Brookings Institution.',\n",
       "    ' It was started in September 2010 by Benjamin Wittes (author and former editorial writer for \"The Washington Post\"), Harvard Law School professor Jack Goldsmith, and University of Texas at Austin law professor Robert Chesney.',\n",
       "    \" Goldsmith was the head of the Office of Legal Counsel in the George W. Bush administration's Justice Department, and Chesney served on a detention-policy task force in the Obama administration.\",\n",
       "    ' Its writers include a large number of law professors, law students, and former George W. Bush and Barack Obama administration officials.']],\n",
       "  ['Jean Guy',\n",
       "   ['Elizabeth \"Jean\" Guy (September 8, 1922 – July 5, 2013) was an American First Lady of the U.S. state of North Dakota.',\n",
       "    \" The longest serving First Lady in North Dakota's history, she served from 1961 to 1973 during the tenure of her husband, former Governor William L. Guy, the longest-serving governor in the state's history.\",\n",
       "    ' Described as a highly influential behind the scenes, Jean Guy has been credited with persuading William Guy to run for office, reviving the Democratic Party and the North Dakota Democratic-Nonpartisan League Party in the state during the mid-20th Century.']],\n",
       "  ['United States Senate career of Hillary Clinton',\n",
       "   ['Hillary Rodham Clinton served as a United States Senator from New York from January 3, 2001 to January 21, 2009.',\n",
       "    ' She won the United States Senate election in New York, 2000 and the United States Senate election in New York, 2006.',\n",
       "    ' Clinton resigned from the Senate on January 21, 2009 to become United States Secretary of State for the Obama Administration.']],\n",
       "  ['Climate Change Science Program',\n",
       "   ['The Climate Change Science Program (CCSP) was the program responsible for coordinating and integrating research on global warming by U.S. government agencies from February 2002 to June 2009.',\n",
       "    ' Toward the end of that period, CCSP issued 21 separate climate assessment reports that addressed climate observations, changes in the atmosphere, expected climate change, impacts and adaptation, and risk management issues.',\n",
       "    \" Shortly after President Obama took office, the program's name was changed to U.S. Global Change Research Program (USGCRP) which was also the program's name before 2002.\",\n",
       "    ' Nevertheless, the Obama Administration generally embraced the CCSP products as sound science providing a basis for climate policy.',\n",
       "    ' Because those reports were mostly issued after the Fourth Assessment Report of the Intergovernmental Panel on Climate Change (IPCC), and in some cases focused specifically on the United States, they were generally viewed within the United States as having an importance and scientific credibility comparable to the IPCC assessments for the first few years of the Obama Administration.']],\n",
       "  ['List of First Ladies of the United States',\n",
       "   ['The First Lady of the United States is the hostess of the White House.',\n",
       "    ' The position is traditionally filled by the wife of the President of the United States, but, on occasion, the title has been applied to women who were not presidents’ wives, such as when the president was a bachelor or widower, or when the wife of the president was unable to fulfill the duties of the First Lady herself.',\n",
       "    ' The First Lady is not an elected position; it carries no official duties and receives no salary.',\n",
       "    ' Nonetheless, she attends many official ceremonies and functions of state either along with or in place of the president.',\n",
       "    ' Traditionally, the First Lady does not hold outside employment while occupying the office.',\n",
       "    ' She has her own staff, including the White House Social Secretary, the Chief of Staff, the Press Secretary, the Chief Floral Designer, and the Executive Chef.',\n",
       "    ' The Office of the First Lady is also in charge of all social and ceremonial events of the White House, and is a branch of the Executive Office of the President.']],\n",
       "  [\"Ann O'Leary\",\n",
       "   [\"Ann M. O'Leary (born 1971 or 1972) is an American political advisor, lawyer, and nonprofit leader who specializes in early childhood education.\",\n",
       "    ' She worked in the Bill Clinton administration and for Hillary Clinton during her time as First Lady, Senate career, and 2008 and 2016 presidential campaigns.',\n",
       "    ' She served in leadership positions at various nonprofit organizations that focus on early childhood education, including Next Generation and the Opportunity Institute.',\n",
       "    \" After Clinton's unsuccessful 2016 presidential campaign, O'Leary became a lawyer at the Palo Alto office of the law firm Boies, Schiller & Flexner.\"]],\n",
       "  ['Vanda Pignato',\n",
       "   [\"Vanda Guiomar Pignato (born February 16, 1963) is a Brazilian-born Salvadoran lawyer, human rights activist, politician, women's rights activist, and former First Lady of El Salvador from 2009 until 2014.\",\n",
       "    \" Pignato became First Lady of El Salvador on June 1, 2009, the same day that her husband, President Mauricio Funes appointed her as the country's Secretary of Social Inclusion from 2009 to 2014.\",\n",
       "    \" The appointment made Pignato the first sitting First Lady in El Salvador's history to hold a political position.\",\n",
       "    \" Funes' successor, President Salvador Sánchez Cerén, reappointed Pignato as Secretary of Social Inclusion when he took office in June 2014.\"]]],\n",
       " 'answer': 'United States Secretary of State',\n",
       " '_id': '5a7bf8825542990527d55436',\n",
       " 'type': 'bridge'}"
      ]
     },
     "execution_count": 42,
     "metadata": {},
     "output_type": "execute_result"
    }
   ],
   "source": [
    "hotpotraw[746]"
   ]
  },
  {
   "cell_type": "code",
   "execution_count": 29,
   "id": "7ef60868-85fa-4691-bbdb-e23c6caa610a",
   "metadata": {
    "scrolled": true,
    "tags": []
   },
   "outputs": [
    {
     "data": {
      "text/plain": [
       "{'question': 'What is the abbreviation by which the University of Kansas is known?',\n",
       " 'id': '56e780ac00c9c71400d771c7',\n",
       " 'answers': [{'text': 'KU', 'answer_start': 26}],\n",
       " 'is_impossible': False}"
      ]
     },
     "execution_count": 29,
     "metadata": {},
     "output_type": "execute_result"
    }
   ],
   "source": [
    "squadraw['data'][65]['paragraphs'][0]['qas'][0]"
   ]
  },
  {
   "cell_type": "code",
   "execution_count": 15,
   "id": "b46a7e24-5b86-4b2f-a139-b0a592190260",
   "metadata": {},
   "outputs": [
    {
     "data": {
      "text/plain": [
       "442"
      ]
     },
     "execution_count": 15,
     "metadata": {},
     "output_type": "execute_result"
    }
   ],
   "source": [
    "len(squadraw['data'])"
   ]
  },
  {
   "cell_type": "code",
   "execution_count": 32,
   "id": "2cbb1568-e07c-4ad7-8324-9d93f315554b",
   "metadata": {},
   "outputs": [],
   "source": [
    "with open('./dataset/squadtrain-v2.0.txt', 'w', encoding='utf-8') as outfile:\n",
    "    for topic in squadraw['data']:\n",
    "        for paragraph in topic['paragraphs']:\n",
    "            for question in paragraph['qas']:\n",
    "                if not question['is_impossible']:\n",
    "                    for answer in question['answers']:\n",
    "                        outstring = f\"{question['question']}\\t{answer['text']}\\n\"\n",
    "                        outfile.write(outstring)"
   ]
  },
  {
   "cell_type": "code",
   "execution_count": null,
   "id": "c3b3fdfc-ffa5-4b31-8b58-f0992e729c26",
   "metadata": {},
   "outputs": [],
   "source": []
  }
 ],
 "metadata": {
  "kernelspec": {
   "display_name": "Python 3 (ipykernel)",
   "language": "python",
   "name": "python3"
  },
  "language_info": {
   "codemirror_mode": {
    "name": "ipython",
    "version": 3
   },
   "file_extension": ".py",
   "mimetype": "text/x-python",
   "name": "python",
   "nbconvert_exporter": "python",
   "pygments_lexer": "ipython3",
   "version": "3.9.19"
  }
 },
 "nbformat": 4,
 "nbformat_minor": 5
}
