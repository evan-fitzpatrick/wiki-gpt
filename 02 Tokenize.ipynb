{
 "cells": [
  {
   "cell_type": "code",
   "execution_count": 2,
   "id": "829d2fe2-bf81-4d7d-adbf-ec6398a3f92a",
   "metadata": {},
   "outputs": [],
   "source": [
    "import tiktoken\n",
    "import re\n",
    "import pickle"
   ]
  },
  {
   "cell_type": "code",
   "execution_count": 3,
   "id": "e1e56c4e-7f63-4f9a-be30-4a828a4768c0",
   "metadata": {},
   "outputs": [],
   "source": [
    "encoding = tiktoken.get_encoding(\"cl100k_base\")"
   ]
  },
  {
   "cell_type": "code",
   "execution_count": 4,
   "id": "8bf6ccde-e5f1-4501-a807-a4297ec9bea5",
   "metadata": {},
   "outputs": [],
   "source": [
    "encoding = tiktoken.encoding_for_model(\"gpt-4\")"
   ]
  },
  {
   "cell_type": "code",
   "execution_count": 24,
   "id": "a3379fc0-597c-47eb-8260-c1f367bb536d",
   "metadata": {},
   "outputs": [
    {
     "data": {
      "text/plain": [
       "[55, 2054, 86467, 9378, 11]"
      ]
     },
     "execution_count": 24,
     "metadata": {},
     "output_type": "execute_result"
    }
   ],
   "source": [
    "encoding.encode(\"Xbox_lahir189,\")"
   ]
  },
  {
   "cell_type": "code",
   "execution_count": 19,
   "id": "a99193e4-1569-4bfb-99c1-f0edc33b9c0b",
   "metadata": {},
   "outputs": [
    {
     "data": {
      "text/plain": [
       "'otballbox\\n;First quarter\\n;Second quarter\\n;Third quarter\\n;Fourth quarter\\n'"
      ]
     },
     "execution_count": 22,
     "metadata": {},
     "output_type": "execute_result"
    }
   ],
   "source": [
    "encoding.decode([36286, 41964, 23163, 369, 3280, 832, 627])"
   ]
  },
  {
   "cell_type": "code",
   "execution_count": 19,
   "id": "595562f0-860c-44a3-828c-cf4856e25cb5",
   "metadata": {},
   "outputs": [
    {
     "data": {
      "text/plain": [
       "'swana'"
      ]
     },
     "execution_count": 19,
     "metadata": {},
     "output_type": "execute_result"
    }
   ],
   "source": [
    "encoding.decode([94810])"
   ]
  },
  {
   "cell_type": "code",
   "execution_count": 21,
   "id": "b287f8ab-fed9-44fb-a233-7300ab31af29",
   "metadata": {},
   "outputs": [
    {
     "data": {
      "text/plain": [
       "' the'"
      ]
     },
     "execution_count": 21,
     "metadata": {},
     "output_type": "execute_result"
    }
   ],
   "source": [
    "encoding.decode([279])"
   ]
  },
  {
   "cell_type": "code",
   "execution_count": 8,
   "id": "f1b8ee0d-783d-4997-b732-9d62eff7aa8e",
   "metadata": {},
   "outputs": [
    {
     "name": "stdout",
     "output_type": "stream",
     "text": [
      "Lines Processsed: 100000, Data Points: 15355\n",
      "Lines Processsed: 200000, Data Points: 31140\n",
      "Lines Processsed: 300000, Data Points: 44948\n",
      "Lines Processsed: 400000, Data Points: 59715\n",
      "Lines Processsed: 500000, Data Points: 74596\n",
      "Lines Processsed: 600000, Data Points: 89714\n",
      "Lines Processsed: 700000, Data Points: 105157\n",
      "Lines Processsed: 800000, Data Points: 120570\n",
      "Lines Processsed: 900000, Data Points: 136366\n",
      "Lines Processsed: 1000000, Data Points: 151662\n",
      "Lines Processsed: 1100000, Data Points: 165782\n",
      "Lines Processsed: 1200000, Data Points: 180476\n",
      "Lines Processsed: 1300000, Data Points: 195433\n",
      "Lines Processsed: 1400000, Data Points: 210240\n",
      "Lines Processsed: 1500000, Data Points: 225216\n",
      "Lines Processsed: 1600000, Data Points: 239430\n",
      "Lines Processsed: 1700000, Data Points: 253636\n",
      "Lines Processsed: 1800000, Data Points: 267526\n",
      "Lines Processsed: 1900000, Data Points: 281663\n",
      "Lines Processsed: 2000000, Data Points: 295925\n",
      "Lines Processsed: 2100000, Data Points: 309386\n",
      "Lines Processsed: 2200000, Data Points: 322929\n",
      "Lines Processsed: 2300000, Data Points: 336397\n",
      "Lines Processsed: 2400000, Data Points: 349330\n",
      "Lines Processsed: 2500000, Data Points: 362622\n",
      "Lines Processsed: 2600000, Data Points: 376341\n",
      "Lines Processsed: 2700000, Data Points: 390464\n",
      "Lines Processsed: 2800000, Data Points: 404047\n",
      "Lines Processsed: 2900000, Data Points: 418604\n",
      "Lines Processsed: 3000000, Data Points: 432386\n",
      "Lines Processsed: 3100000, Data Points: 446564\n",
      "Lines Processsed: 3200000, Data Points: 460646\n",
      "Lines Processsed: 3300000, Data Points: 474394\n",
      "Lines Processsed: 3400000, Data Points: 488278\n",
      "Lines Processsed: 3500000, Data Points: 501680\n",
      "Lines Processsed: 3600000, Data Points: 515111\n",
      "Lines Processsed: 3700000, Data Points: 529019\n",
      "Lines Processsed: 3800000, Data Points: 542879\n",
      "Lines Processsed: 3900000, Data Points: 555515\n",
      "Lines Processsed: 4000000, Data Points: 568575\n",
      "Lines Processsed: 4100000, Data Points: 581191\n",
      "Lines Processsed: 4200000, Data Points: 594983\n",
      "Lines Processsed: 4300000, Data Points: 609035\n",
      "Lines Processsed: 4400000, Data Points: 623062\n",
      "Lines Processsed: 4500000, Data Points: 636446\n",
      "Lines Processsed: 4600000, Data Points: 649759\n",
      "Lines Processsed: 4700000, Data Points: 663526\n",
      "Lines Processsed: 4800000, Data Points: 676639\n",
      "Lines Processsed: 4900000, Data Points: 690579\n",
      "Lines Processsed: 5000000, Data Points: 704139\n",
      "Lines Processsed: 5100000, Data Points: 717554\n",
      "Lines Processsed: 5200000, Data Points: 730723\n",
      "Lines Processsed: 5300000, Data Points: 743396\n",
      "Lines Processsed: 5400000, Data Points: 756099\n",
      "Lines Processsed: 5500000, Data Points: 768774\n",
      "Lines Processsed: 5600000, Data Points: 781420\n",
      "Lines Processsed: 5700000, Data Points: 795009\n",
      "Lines Processsed: 5800000, Data Points: 807767\n",
      "Lines Processsed: 5900000, Data Points: 820499\n",
      "Lines Processsed: 6000000, Data Points: 833356\n",
      "Lines Processsed: 6100000, Data Points: 845698\n",
      "Lines Processsed: 6200000, Data Points: 858673\n",
      "Lines Processsed: 6300000, Data Points: 871300\n",
      "Lines Processsed: 6400000, Data Points: 883860\n",
      "Lines Processsed: 6500000, Data Points: 896708\n",
      "Lines Processsed: 6600000, Data Points: 910632\n",
      "Lines Processsed: 6700000, Data Points: 923678\n",
      "Lines Processsed: 6800000, Data Points: 936421\n",
      "Lines Processsed: 6900000, Data Points: 950661\n",
      "Lines Processsed: 7000000, Data Points: 962169\n",
      "Lines Processsed: 7100000, Data Points: 976243\n",
      "Lines Processsed: 7200000, Data Points: 989443\n",
      "Lines Processsed: 7300000, Data Points: 1002801\n",
      "Lines Processsed: 7400000, Data Points: 1016607\n",
      "Lines Processsed: 7500000, Data Points: 1029296\n",
      "Lines Processsed: 7600000, Data Points: 1042234\n",
      "Lines Processsed: 7700000, Data Points: 1054583\n",
      "Lines Processsed: 7800000, Data Points: 1067397\n",
      "Lines Processsed: 7900000, Data Points: 1079582\n",
      "Lines Processsed: 8000000, Data Points: 1092686\n",
      "Lines Processsed: 8100000, Data Points: 1105612\n",
      "Lines Processsed: 8200000, Data Points: 1118670\n",
      "Lines Processsed: 8300000, Data Points: 1132063\n",
      "Lines Processsed: 8400000, Data Points: 1143687\n",
      "Lines Processsed: 8500000, Data Points: 1156308\n",
      "Lines Processsed: 8600000, Data Points: 1168908\n",
      "Lines Processsed: 8700000, Data Points: 1181223\n",
      "Lines Processsed: 8800000, Data Points: 1193898\n",
      "Lines Processsed: 8900000, Data Points: 1205541\n",
      "Lines Processsed: 9000000, Data Points: 1217418\n",
      "Lines Processsed: 9100000, Data Points: 1228797\n",
      "Lines Processsed: 9200000, Data Points: 1238025\n"
     ]
    }
   ],
   "source": [
    "dataset = []\n",
    "with open('filteredpagedata.txt', encoding='utf=8') as f:\n",
    "    c=0\n",
    "    excerpt = ''\n",
    "    for line in f:\n",
    "        c+=1\n",
    "        if '<title>' in line or re.search(\"=.*?=\", line): # Excerpt has finished. Tokenize and Save\n",
    "            datum = excerpt\n",
    "            if len(datum) > 20:\n",
    "                datum = encoding.encode(datum)\n",
    "                dataset.append(datum)\n",
    "            excerpt = ''\n",
    "        else:\n",
    "            excerpt += line\n",
    "        if c%100000 == 0:\n",
    "            print(f'Lines Processsed: {c}, Data Points: {len(dataset)}')"
   ]
  },
  {
   "cell_type": "code",
   "execution_count": 11,
   "id": "ccababa1-eb64-4efe-a6bb-a3c3be958542",
   "metadata": {},
   "outputs": [],
   "source": [
    "with open('tokenized_dataset.pickle', 'wb') as outfile:\n",
    "    pickle.dump(dataset, outfile)"
   ]
  },
  {
   "cell_type": "code",
   "execution_count": 5,
   "id": "87280414-cccf-4ab4-86d9-d5435aa0e4bc",
   "metadata": {},
   "outputs": [
    {
     "name": "stdout",
     "output_type": "stream",
     "text": [
      "231\n",
      "449\n",
      "289\n",
      "666\n",
      "408\n",
      "458\n",
      "565\n",
      "477\n",
      "148\n",
      "391\n",
      "239\n",
      "546\n",
      "121\n",
      "162\n",
      "448\n",
      "451\n",
      "397\n",
      "802\n",
      "438\n",
      "451\n",
      "181\n",
      "267\n",
      "17\n",
      "89\n",
      "173\n",
      "762\n",
      "172\n",
      "384\n",
      "47\n",
      "212\n",
      "483\n",
      "298\n",
      "149\n",
      "205\n",
      "380\n",
      "73\n",
      "446\n",
      "240\n",
      "40\n",
      "169\n",
      "307\n",
      "283\n",
      "137\n",
      "402\n",
      "43\n",
      "331\n",
      "50\n",
      "78\n",
      "291\n",
      "480\n",
      "62\n",
      "106\n",
      "19\n",
      "31\n",
      "474\n",
      "238\n",
      "195\n",
      "410\n",
      "528\n",
      "484\n",
      "1706\n",
      "123\n",
      "729\n",
      "777\n",
      "249\n",
      "50\n",
      "207\n",
      "528\n",
      "38\n",
      "766\n",
      "67\n",
      "599\n",
      "136\n",
      "57\n",
      "274\n",
      "647\n",
      "431\n",
      "92\n",
      "112\n",
      "60\n",
      "56\n",
      "1121\n",
      "262\n",
      "392\n",
      "532\n",
      "18\n",
      "339\n",
      "189\n",
      "74\n",
      "168\n",
      "47\n",
      "550\n",
      "465\n",
      "58\n",
      "41\n",
      "167\n",
      "230\n",
      "38\n",
      "65\n",
      "33\n",
      "375\n",
      "286\n",
      "407\n",
      "731\n",
      "146\n",
      "500\n",
      "325\n",
      "72\n",
      "139\n",
      "210\n",
      "1074\n",
      "369\n",
      "371\n",
      "431\n",
      "500\n",
      "205\n",
      "1382\n",
      "344\n",
      "81\n",
      "232\n",
      "241\n",
      "97\n",
      "718\n",
      "354\n",
      "616\n",
      "170\n",
      "80\n",
      "284\n",
      "506\n",
      "282\n",
      "179\n",
      "334\n",
      "498\n",
      "376\n",
      "221\n",
      "195\n",
      "315\n",
      "356\n",
      "599\n",
      "151\n",
      "984\n",
      "877\n",
      "633\n",
      "589\n",
      "810\n",
      "610\n",
      "1582\n",
      "215\n",
      "1133\n",
      "431\n",
      "733\n",
      "667\n"
     ]
    }
   ],
   "source": [
    "with open('filteredpagedata.txt', encoding='utf=8') as f:\n",
    "    c=0\n",
    "    excerpt = ''\n",
    "    for line in f:\n",
    "        c+=1\n",
    "        if '<title>' in line or re.search(\"=.*?=\", line): # Excerpt has finished. Tokenize and Save\n",
    "            datum = excerpt\n",
    "            if len(datum) > 20:\n",
    "                datum = encoding.encode(datum)\n",
    "                print(len(datum))\n",
    "            excerpt = ''\n",
    "        else:\n",
    "            excerpt += line\n",
    "        if c%1000 == 0:\n",
    "            break"
   ]
  },
  {
   "cell_type": "code",
   "execution_count": null,
   "id": "1c56ea66-bb20-4674-841f-d80c32f730ce",
   "metadata": {},
   "outputs": [],
   "source": []
  }
 ],
 "metadata": {
  "kernelspec": {
   "display_name": "Python 3 (ipykernel)",
   "language": "python",
   "name": "python3"
  },
  "language_info": {
   "codemirror_mode": {
    "name": "ipython",
    "version": 3
   },
   "file_extension": ".py",
   "mimetype": "text/x-python",
   "name": "python",
   "nbconvert_exporter": "python",
   "pygments_lexer": "ipython3",
   "version": "3.9.19"
  }
 },
 "nbformat": 4,
 "nbformat_minor": 5
}
