{
 "cells": [
  {
   "cell_type": "code",
   "execution_count": 1,
   "id": "ade6d4a1-7acb-478a-acaf-f537bcf51beb",
   "metadata": {},
   "outputs": [],
   "source": [
    "import re\n",
    "import html\n",
    "import time"
   ]
  },
  {
   "cell_type": "code",
   "execution_count": 34,
   "id": "4cf688e8-2926-44c5-8f03-e19248e96366",
   "metadata": {
    "tags": []
   },
   "outputs": [
    {
     "name": "stdout",
     "output_type": "stream",
     "text": [
      "Lines Processed: 1000000, Time Elapsed: 271.27s\n",
      "Lines Processed: 2000000, Time Elapsed: 518.21s\n",
      "Lines Processed: 3000000, Time Elapsed: 785.18s\n",
      "Lines Processed: 4000000, Time Elapsed: 1041.06s\n",
      "Lines Processed: 5000000, Time Elapsed: 1299.44s\n",
      "Lines Processed: 6000000, Time Elapsed: 1543.0s\n",
      "Lines Processed: 7000000, Time Elapsed: 1767.21s\n",
      "Lines Processed: 8000000, Time Elapsed: 1975.85s\n",
      "Lines Processed: 9000000, Time Elapsed: 2194.35s\n",
      "Lines Processed: 10000000, Time Elapsed: 2421.02s\n",
      "Lines Processed: 11000000, Time Elapsed: 2640.69s\n",
      "Lines Processed: 12000000, Time Elapsed: 2842.2s\n",
      "Lines Processed: 13000000, Time Elapsed: 3018.89s\n",
      "Lines Processed: 14000000, Time Elapsed: 3193.44s\n",
      "Lines Processed: 15000000, Time Elapsed: 3351.13s\n",
      "Lines Processed: 16000000, Time Elapsed: 3525.22s\n",
      "Lines Processed: 17000000, Time Elapsed: 3688.96s\n",
      "Lines Processed: 18000000, Time Elapsed: 3883.28s\n",
      "Lines Processed: 19000000, Time Elapsed: 4037.39s\n",
      "Lines Processed: 20000000, Time Elapsed: 4187.46s\n",
      "Lines Processed: 21000000, Time Elapsed: 4352.98s\n",
      "Lines Processed: 22000000, Time Elapsed: 4519.22s\n",
      "Lines Processed: 23000000, Time Elapsed: 4689.4s\n",
      "Lines Processed: 24000000, Time Elapsed: 4869.86s\n",
      "Lines Processed: 25000000, Time Elapsed: 5033.59s\n",
      "Lines Processed: 26000000, Time Elapsed: 5209.47s\n",
      "Lines Processed: 27000000, Time Elapsed: 5397.42s\n",
      "Lines Processed: 28000000, Time Elapsed: 5562.53s\n",
      "Lines Processed: 29000000, Time Elapsed: 5717.45s\n",
      "Lines Processed: 30000000, Time Elapsed: 5882.53s\n",
      "Lines Processed: 31000000, Time Elapsed: 6036.89s\n",
      "Lines Processed: 32000000, Time Elapsed: 6191.82s\n",
      "Lines Processed: 33000000, Time Elapsed: 6345.46s\n",
      "Lines Processed: 34000000, Time Elapsed: 6493.15s\n",
      "Lines Processed: 35000000, Time Elapsed: 6622.64s\n",
      "Lines Processed: 36000000, Time Elapsed: 6743.58s\n",
      "Lines Processed: 37000000, Time Elapsed: 6866.45s\n",
      "Lines Processed: 38000000, Time Elapsed: 6970.7s\n"
     ]
    }
   ],
   "source": [
    "with open('rawpagedata.txt', encoding='utf-8') as f:\n",
    "    c = 0\n",
    "    startTime = time.time()\n",
    "    inTable = False\n",
    "    inSources = False\n",
    "    for line in f:\n",
    "        c+=1\n",
    "        newline = line\n",
    "        if not '<title>' in line:\n",
    "            newline = line\n",
    "            newline = re.sub('{[^{}]*}', '', newline)\n",
    "            newline = re.sub('{[^{}]*}', '', newline)\n",
    "            newline = re.sub(r'\\[.*?\\|([^]]+)\\]]', r'\\1', newline)\n",
    "            newline = re.sub('|[^{}]*}}', '', newline)\n",
    "            newline = re.sub('{{[^{}]{0,10}|', '', newline)\n",
    "            newline = re.sub(r'thumb\\|[^\\|]{1,20}\\|', '', newline)\n",
    "            newline = newline.replace('()', '').replace('[[', '').replace(']]', '').replace('thumb|', '')\n",
    "            if newline == '\\n':\n",
    "                newline = ''\n",
    "            newline = html.unescape(newline)\n",
    "            newline = re.sub(r'<.*?>', '', newline)\n",
    "            \n",
    "            if 'wikitable' in newline:\n",
    "                inTable = True\n",
    "            if newline.strip() in ['== See also ==', '== References ==', '=== Explanatory notes ===', '=== Citations ===', '=== General and cited sources ===', '==== Primary sources ====', '==See also==', '==Notes==', '==References==']:\n",
    "                inSources = True\n",
    "            if len(newline.strip()) > 0 and not '|}' in newline and newline.strip()[0] == '|':\n",
    "                newline = ''\n",
    "            if 'File:' in newline or 'Image' in newline:\n",
    "                newline = ''\n",
    "    \n",
    "        if (not inTable) and (not inSources):\n",
    "            with open('filteredpagedata.txt', 'a', encoding='utf-8') as outfile:\n",
    "                outfile.write(newline)\n",
    "        \n",
    "        if '|}' in newline:\n",
    "            inTable = False\n",
    "        if '<title>' in newline:\n",
    "            inSources = False\n",
    "                \n",
    "                \n",
    "        if c % 1000000 == 0:\n",
    "            print(f'Lines Processed: {c}, Time Elapsed: {round(time.time()- startTime, 2)}s')"
   ]
  },
  {
   "cell_type": "code",
   "execution_count": null,
   "id": "5940e8c5-e420-43cc-b54a-71e6c6c589ed",
   "metadata": {},
   "outputs": [],
   "source": []
  },
  {
   "cell_type": "code",
   "execution_count": null,
   "id": "d8425b09-9554-4a5b-b97f-24852884b22c",
   "metadata": {},
   "outputs": [],
   "source": []
  },
  {
   "cell_type": "code",
   "execution_count": null,
   "id": "5ed78ba8-f814-4969-a225-31ce729232cf",
   "metadata": {},
   "outputs": [],
   "source": []
  }
 ],
 "metadata": {
  "kernelspec": {
   "display_name": "Python 3 (ipykernel)",
   "language": "python",
   "name": "python3"
  },
  "language_info": {
   "codemirror_mode": {
    "name": "ipython",
    "version": 3
   },
   "file_extension": ".py",
   "mimetype": "text/x-python",
   "name": "python",
   "nbconvert_exporter": "python",
   "pygments_lexer": "ipython3",
   "version": "3.9.19"
  }
 },
 "nbformat": 4,
 "nbformat_minor": 5
}
