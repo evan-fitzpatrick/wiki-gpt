{
 "cells": [
  {
   "cell_type": "code",
   "execution_count": null,
   "id": "632aea83-9121-4a66-ba34-0048681a9046",
   "metadata": {},
   "outputs": [],
   "source": [
    "import numpy as np"
   ]
  },
  {
   "cell_type": "code",
   "execution_count": 29,
   "id": "06669dd9-6ca2-4488-b741-6bdd72247b4a",
   "metadata": {},
   "outputs": [
    {
     "name": "stdout",
     "output_type": "stream",
     "text": [
      "Pages Checked: 10000000, Pages Selected: 53795\n",
      "Pages Checked: 20000000, Pages Selected: 55202\n",
      "Pages Checked: 30000000, Pages Selected: 55935\n",
      "Pages Checked: 40000000, Pages Selected: 90295\n",
      "Pages Checked: 50000000, Pages Selected: 163476\n",
      "Pages Checked: 60000000, Pages Selected: 334316\n",
      "Pages Checked: 70000000, Pages Selected: 449895\n",
      "Pages Checked: 80000000, Pages Selected: 676582\n",
      "Pages Checked: 90000000, Pages Selected: 759582\n",
      "Pages Checked: 100000000, Pages Selected: 846710\n",
      "Pages Checked: 110000000, Pages Selected: 933924\n",
      "Pages Checked: 120000000, Pages Selected: 1008019\n",
      "Pages Checked: 130000000, Pages Selected: 1095595\n",
      "Pages Checked: 140000000, Pages Selected: 1213336\n",
      "Pages Checked: 150000000, Pages Selected: 1238704\n",
      "Pages Checked: 160000000, Pages Selected: 1303071\n",
      "Pages Checked: 170000000, Pages Selected: 1412275\n",
      "Pages Checked: 180000000, Pages Selected: 1462325\n",
      "Pages Checked: 190000000, Pages Selected: 1494653\n"
     ]
    }
   ],
   "source": [
    "mostviewed = {}\n",
    "with open('pageviews-202312-user', encoding='utf-8') as f:\n",
    "    c = 0\n",
    "    for line in f:\n",
    "        c+=1\n",
    "        views = int(line.split(' ')[4])\n",
    "        if views > 1000:\n",
    "            pagename = line.split(' ')[1]\n",
    "            pagelocation = line.split(' ')[0]\n",
    "            dictkey = f'{pagelocation} {pagename}'\n",
    "            \n",
    "            if not dictkey in mostviewed:\n",
    "                mostviewed[dictkey] = views\n",
    "            else:\n",
    "                mostviewed[dictkey] += views\n",
    "        if c%10000000 == 0:\n",
    "            print(f'Pages Checked: {c}, Pages Selected: {len(mostviewed)}')\n",
    "        "
   ]
  },
  {
   "cell_type": "code",
   "execution_count": 36,
   "id": "8c4b7ddc-2dc2-44a1-812c-7cc0a606a2a4",
   "metadata": {},
   "outputs": [],
   "source": [
    "sortedpages = np.array(list(mostviewed.items()), dtype=object)\n",
    "sortedpages = sortedpages[sortedpages[:,1].argsort()]"
   ]
  },
  {
   "cell_type": "code",
   "execution_count": 46,
   "id": "051d3efe-33c2-47f2-9976-cabfd11a39a2",
   "metadata": {},
   "outputs": [],
   "source": [
    "englishpages = [[p[0].split(' ')[-1], p[1]] for p in sortedpages[::-1] if 'en.wikipedia' in p[0]]"
   ]
  },
  {
   "cell_type": "code",
   "execution_count": 73,
   "id": "6f223ecc-08e9-4081-a51c-08802083c4e1",
   "metadata": {},
   "outputs": [],
   "source": [
    "selectedpages = set([p[0].replace('_', ' ') for p in englishpages[:100000]])"
   ]
  },
  {
   "cell_type": "code",
   "execution_count": 74,
   "id": "2d1772a2-5401-4b78-b904-3fb29091add0",
   "metadata": {},
   "outputs": [],
   "source": [
    "with open('enwiki-latest-pages-articles.xml', encoding='utf-8') as f:\n",
    "    c = 0\n",
    "    inText = False\n",
    "    runningText = ''\n",
    "    for line in f:\n",
    "        \n",
    "        if '<title>' in line:\n",
    "            workingTitle = line.split('<title>')[-1].split('</title>')[0]\n",
    "        elif '<text' in line:\n",
    "            inText = True\n",
    "        elif '</text>' in line:\n",
    "            inText = False\n",
    "            if workingTitle in selectedpages:\n",
    "                c+=1\n",
    "                with open('rawpagedata10k.txt', 'a', encoding='utf-8') as outfile:\n",
    "                    outfile.write(f\"<title>{workingTitle}\\n{runningText}\")\n",
    "            runningText = ''\n",
    "            workingTitle = '-Unknown-'\n",
    "        \n",
    "        elif inText:\n",
    "            runningText += line"
   ]
  },
  {
   "cell_type": "code",
   "execution_count": null,
   "id": "21e94c9d-c10a-40ce-beac-2d2017a4a54b",
   "metadata": {},
   "outputs": [],
   "source": []
  },
  {
   "cell_type": "code",
   "execution_count": null,
   "id": "7158e94f-e0c7-43b2-a3d2-a0d1902b2ee0",
   "metadata": {},
   "outputs": [],
   "source": []
  },
  {
   "cell_type": "code",
   "execution_count": null,
   "id": "1187b2c5-9801-47e9-8edc-71fc8e9edec2",
   "metadata": {},
   "outputs": [],
   "source": []
  }
 ],
 "metadata": {
  "kernelspec": {
   "display_name": "Python 3 (ipykernel)",
   "language": "python",
   "name": "python3"
  },
  "language_info": {
   "codemirror_mode": {
    "name": "ipython",
    "version": 3
   },
   "file_extension": ".py",
   "mimetype": "text/x-python",
   "name": "python",
   "nbconvert_exporter": "python",
   "pygments_lexer": "ipython3",
   "version": "3.9.19"
  }
 },
 "nbformat": 4,
 "nbformat_minor": 5
}
