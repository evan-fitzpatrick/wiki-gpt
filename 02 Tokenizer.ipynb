{
 "cells": [
  {
   "cell_type": "code",
   "execution_count": 3,
   "id": "3a43b51b-11f4-4eac-8856-f4f4fe8900b5",
   "metadata": {},
   "outputs": [
    {
     "name": "stdout",
     "output_type": "stream",
     "text": [
      "Using TensorFlow backend\n"
     ]
    }
   ],
   "source": [
    "import re\n",
    "import os\n",
    "import keras_nlp\n",
    "import keras\n",
    "\n",
    "import tensorflow.data as tf_data\n",
    "import tensorflow.strings as tf_strings\n",
    "\n",
    "import pickle"
   ]
  },
  {
   "cell_type": "code",
   "execution_count": 6,
   "id": "1d5bb303-fc85-4a98-acbb-d1fd5896f246",
   "metadata": {},
   "outputs": [],
   "source": [
    "dataset = []\n",
    "with open('filteredpagedata.txt', encoding='utf=8') as f:\n",
    "    c=0\n",
    "    files = 0\n",
    "    entries = 0\n",
    "    excerpt = ''\n",
    "    for line in f:\n",
    "        c+=1\n",
    "        if '<title>' in line or re.search(\"=.*?=\", line): # Excerpt has finished. Tokenize and Save\n",
    "            datum = excerpt\n",
    "            if len(datum) > 32:\n",
    "                dataset.append(excerpt)\n",
    "                entries += 1\n",
    "                if entries % 100 == 0:\n",
    "                    if entries <= 1000000:\n",
    "                        file = 'train_complete'\n",
    "                    else:\n",
    "                        file = 'val_complete'\n",
    "                    with open(f'./dataset/txt/{file}.txt', 'a', encoding='utf-8') as outfile:\n",
    "                        for entry in dataset:\n",
    "                            outfile.write(entry)\n",
    "                            outfile.write('\\n<eob>\\n')\n",
    "                        dataset = []\n",
    "                        \n",
    "                    #<eob>\n",
    "            excerpt = ''\n",
    "        else:\n",
    "            excerpt += line\n",
    "        if c%1000000000 == 0:\n",
    "            break\n",
    "            print(f'Lines Processsed: {c}, Data Points: {len(dataset)}')"
   ]
  },
  {
   "cell_type": "code",
   "execution_count": 1,
   "id": "527bbf90-10c5-4376-a7c2-84e073b13960",
   "metadata": {},
   "outputs": [],
   "source": [
    "# Data\n",
    "BATCH_SIZE = 64\n",
    "MIN_STRING_LEN = 512  # Strings shorter than this will be discarded\n",
    "SEQ_LEN = 512  # Length of training sequences, in tokens\n",
    "VOCAB_SIZE = 50000"
   ]
  },
  {
   "cell_type": "code",
   "execution_count": 4,
   "id": "1886db52-c7c9-40a6-b02a-056b77de59da",
   "metadata": {},
   "outputs": [],
   "source": [
    "raw_train_ds = (\n",
    "    tf_data.TextLineDataset('./dataset/wikitext-103/wiki.train.tokens')\n",
    "    .filter(lambda x: tf_strings.length(x) > MIN_STRING_LEN)\n",
    "    .batch(BATCH_SIZE)\n",
    "    .shuffle(buffer_size=256)\n",
    ")"
   ]
  },
  {
   "cell_type": "code",
   "execution_count": 5,
   "id": "28e943b4-243f-4e32-8f26-cb513468b88d",
   "metadata": {},
   "outputs": [],
   "source": [
    "# Takes like 45 minutes. Beware.\n",
    "vocab = keras_nlp.tokenizers.compute_word_piece_vocabulary(\n",
    "    raw_train_ds,\n",
    "    vocabulary_size=VOCAB_SIZE,\n",
    "    lowercase=True,\n",
    "    reserved_tokens=[\"[PAD]\", \"[UNK]\", \"[BOS]\"],\n",
    ")"
   ]
  },
  {
   "cell_type": "code",
   "execution_count": 7,
   "id": "837ab627-7e66-43e2-a387-2d84943c6c24",
   "metadata": {},
   "outputs": [],
   "source": [
    "tokenizer = keras_nlp.tokenizers.WordPieceTokenizer(\n",
    "    vocabulary=vocab,\n",
    "    sequence_length=SEQ_LEN,\n",
    "    lowercase=True,\n",
    ")"
   ]
  },
  {
   "cell_type": "code",
   "execution_count": 8,
   "id": "57e0a5ef-4d18-419a-b873-040996994263",
   "metadata": {},
   "outputs": [],
   "source": [
    "with open('./models/wikitext103_tokenizer50k.pkl', 'wb') as out:\n",
    "    pickle.dump(tokenizer, out, protocol=pickle.HIGHEST_PROTOCOL)"
   ]
  },
  {
   "cell_type": "code",
   "execution_count": null,
   "id": "70883580-ffa0-4b4a-b16e-3e7271633b97",
   "metadata": {},
   "outputs": [],
   "source": []
  },
  {
   "cell_type": "code",
   "execution_count": null,
   "id": "44e3a02f-94db-4d71-8f0b-fd1374198e90",
   "metadata": {},
   "outputs": [],
   "source": []
  },
  {
   "cell_type": "code",
   "execution_count": null,
   "id": "add41b69-0c2c-4c19-8e06-f8c01e948e18",
   "metadata": {},
   "outputs": [],
   "source": []
  },
  {
   "cell_type": "code",
   "execution_count": null,
   "id": "4875a7c5-1a69-4b6c-8d95-81e17063cb34",
   "metadata": {},
   "outputs": [],
   "source": []
  }
 ],
 "metadata": {
  "kernelspec": {
   "display_name": "Python 3 (ipykernel)",
   "language": "python",
   "name": "python3"
  },
  "language_info": {
   "codemirror_mode": {
    "name": "ipython",
    "version": 3
   },
   "file_extension": ".py",
   "mimetype": "text/x-python",
   "name": "python",
   "nbconvert_exporter": "python",
   "pygments_lexer": "ipython3",
   "version": "3.9.19"
  }
 },
 "nbformat": 4,
 "nbformat_minor": 5
}
